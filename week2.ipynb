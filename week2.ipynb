try:
    import torch
    print("✓ PyTorch is successfully imported!")
    print(f"PyTorch version: {torch.__version__}")
    
    # Check if CUDA is available
    if torch.cuda.is_available():
        print(f"✓ CUDA is available! Device count: {torch.cuda.device_count()}")
        print(f"Current CUDA device: {torch.cuda.get_device_name(0)}")
    else:
        print("CUDA is not available. Using CPU.")
    
    # Create a simple tensor to test basic functionality
    # Device 설정하고 tensor을 device에 보내기
    device = torch.device("cuda" if torch.cuda.is_available() else "cpu")
    test_tensor = torch.tensor([1, 2, 3, 4, 5]).to(device)
    print(f"✓ Test tensor created: {test_tensor}")
    print(f"Tensor shape: {test_tensor.shape}")
    print(f"Tensor device: {test_tensor.device}")
    
    # Basic tensor operation
    squared_tensor = test_tensor ** 2
    print(f"✓ Basic operation test (squaring): {squared_tensor}")
    
    print("\n🎉 PyTorch is working correctly!")
    
except ImportError as e:
    print("❌ PyTorch is not installed or not available")
    print(f"Error details: {e}")
    print("Please install PyTorch using: pip install torch")
    
except Exception as e:
    print(f"❌ An error occurred while testing PyTorch: {e}")
